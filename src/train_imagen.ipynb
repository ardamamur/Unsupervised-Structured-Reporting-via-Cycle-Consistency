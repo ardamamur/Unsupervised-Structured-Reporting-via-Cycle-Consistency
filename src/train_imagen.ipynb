{
 "cells": [
  {
   "cell_type": "code",
   "execution_count": null,
   "metadata": {},
   "outputs": [],
   "source": [
    "# please use train_imagen.py to train the model!"
   ]
  },
  {
   "cell_type": "code",
   "execution_count": null,
   "metadata": {},
   "outputs": [],
   "source": [
    "from models.imagen_pytorch.imagen_pytorch import Unet, Imagen\n",
    "from models.imagen_pytorch.trainer import ImagenTrainer\n",
    "from models.imagen_pytorch.data import NLMCXRDataset\n",
    "import os"
   ]
  },
  {
   "cell_type": "code",
   "execution_count": null,
   "metadata": {},
   "outputs": [],
   "source": [
    "iterations = 100000 # not batch_num now!\n",
    "batch_size = 16\n",
    "validate_every = 100\n",
    "sample_every = 1000\n",
    "save_every = 1000\n",
    "sample_save_path = '../tmp/'\n",
    "image_path = '/home/guo/git/Rad-ReStruct/data/radrestruct/images/'\n",
    "text_path = '/home/guo/data/ecgen-radiology/'\n",
    "save_path = '../checkpoints/'\n",
    "num_save_checkpoint = 3\n",
    "\n",
    "load_model = False\n",
    "load_model_path = '../checkpoints/imagen-1.pth'\n",
    "\n",
    "unet_number = 1"
   ]
  },
  {
   "cell_type": "code",
   "execution_count": null,
   "metadata": {},
   "outputs": [],
   "source": [
    "# unet for imagen\n",
    "\n",
    "unet1 = Unet(\n",
    "    dim = 32,\n",
    "    cond_dim = 512,\n",
    "    dim_mults = (1, 2, 4, 8),\n",
    "    num_resnet_blocks = 3,\n",
    "    layer_attns = (False, True, True, True),\n",
    "    layer_cross_attns = (False, True, True, True)\n",
    ")\n",
    "\n",
    "unet2 = Unet(\n",
    "    dim = 32,\n",
    "    cond_dim = 512,\n",
    "    dim_mults = (1, 2, 4, 8),\n",
    "    num_resnet_blocks = (2, 4, 8, 8),\n",
    "    layer_attns = (False, False, False, True),\n",
    "    layer_cross_attns = (False, False, False, True)\n",
    ")\n",
    "\n",
    "# imagen, which contains the unets above (base unet and super resoluting ones)\n",
    "\n",
    "imagen = Imagen(\n",
    "    condition_on_text = True,  # this must be set to False for unconditional Imagen\n",
    "    unets = (unet1, unet2),\n",
    "    image_sizes = (64, 128),\n",
    "    timesteps = 1000,\n",
    "    channels=1,\n",
    "    cond_drop_prob = 0.1\n",
    ")\n",
    "\n",
    "trainer = ImagenTrainer(\n",
    "    imagen = imagen,\n",
    "    split_valid_from_train = False, # whether to split the validation dataset from the training\n",
    ").cuda()\n",
    "\n",
    "if (load_model):\n",
    "    trainer.load(load_model_path)\n",
    "\n",
    "# instantiate the train, validation and datasets, which return the necessary inputs to the DDPM as tuple in the order of images, text embeddings, then text masks.\n",
    "dataset_train = NLMCXRDataset(image_path, text_path, image_size=64, mode='train')\n",
    "dataset_val = NLMCXRDataset(image_path, text_path, image_size=64, mode='val')\n",
    "dataset_test = NLMCXRDataset(image_path, text_path, image_size=64, mode='test')\n",
    "\n",
    "trainer.add_train_dataset(dataset_train, batch_size = batch_size)\n",
    "trainer.add_valid_dataset(dataset_val, batch_size = batch_size)\n",
    "\n",
    "# working training loop\n",
    "\n",
    "for i in range(iterations):\n",
    "    loss = trainer.train_step(unet_number = unet_number)\n",
    "    # print(f'loss: {loss}')\n",
    "\n",
    "    if not (i % validate_every):\n",
    "        valid_loss = trainer.valid_step(unet_number = unet_number)\n",
    "        print(f'valid loss in iter {i}: {valid_loss}')\n",
    "\n",
    "    if not (i % sample_every) and trainer.is_main: # is_main makes sure this can run in distributed\n",
    "        idx = 0\n",
    "        images = trainer.sample(batch_size = 1, return_pil_images = True, text_embeds=dataset_test[idx][1].unsqueeze(0), stop_at_unet_number=unet_number) # returns List[Image]\n",
    "        images[0].save(sample_save_path + f'sample-{i // sample_every}.png')\n",
    "        print(f'saved sample {i // sample_every}')\n",
    "\n",
    "    if not (i % save_every) and trainer.is_main:\n",
    "        model_name = f'imagen-{i // save_every}.pt'\n",
    "        trainer.save(save_path + model_name)\n",
    "        print(f'saved model {model_name}')\n",
    "        \n",
    "        if i > save_every:\n",
    "            if f'imagen-{(i // save_every) - num_save_checkpoint}.pt' in os.listdir(save_path):\n",
    "                os.remove(save_path + f'imagen-{(i // save_every) - num_save_checkpoint}.pt')\n"
   ]
  },
  {
   "cell_type": "code",
   "execution_count": null,
   "metadata": {},
   "outputs": [],
   "source": []
  }
 ],
 "metadata": {
  "kernelspec": {
   "display_name": "radrestruct",
   "language": "python",
   "name": "python3"
  },
  "language_info": {
   "codemirror_mode": {
    "name": "ipython",
    "version": 3
   },
   "file_extension": ".py",
   "mimetype": "text/x-python",
   "name": "python",
   "nbconvert_exporter": "python",
   "pygments_lexer": "ipython3",
   "version": "3.9.18"
  }
 },
 "nbformat": 4,
 "nbformat_minor": 2
}
