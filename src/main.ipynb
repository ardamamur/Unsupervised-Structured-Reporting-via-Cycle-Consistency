{
 "cells": [
  {
   "cell_type": "code",
   "execution_count": 1,
   "id": "4027391b-a896-4a76-8f8c-96aa9cae654b",
   "metadata": {},
   "outputs": [
    {
     "name": "stderr",
     "output_type": "stream",
     "text": [
      "/home/guests/usr_mlmi/.conda/envs/mlmi/lib/python3.8/site-packages/tqdm/auto.py:21: TqdmWarning: IProgress not found. Please update jupyter and ipywidgets. See https://ipywidgets.readthedocs.io/en/stable/user_install.html\n",
      "  from .autonotebook import tqdm as notebook_tqdm\n"
     ]
    }
   ],
   "source": [
    "from data.Chexpert import Chexpert\n",
    "#from modules.ChexpertModule import ChexpertDataModule\n",
    "from utils.environment_settings import env_settings\n",
    "from utils.utils import *\n",
    "from utils._prepare_data import DataHandler"
   ]
  },
  {
   "cell_type": "code",
   "execution_count": 2,
   "id": "ce4ea619-b308-445b-8675-456ec1481e69",
   "metadata": {},
   "outputs": [],
   "source": [
    "params = read_config(env_settings.CONFIG)"
   ]
  },
  {
   "cell_type": "code",
   "execution_count": 3,
   "id": "1501dcf8-70a9-4bea-8c21-8bd462284f27",
   "metadata": {},
   "outputs": [],
   "source": [
    "processor = DataHandler(opt=params[\"dataset\"])"
   ]
  },
  {
   "cell_type": "code",
   "execution_count": 4,
   "id": "a22d4d50-f45f-4f1d-b5d8-1e793b3dd183",
   "metadata": {},
   "outputs": [],
   "source": [
    "train_size = int(0.8 * len(processor.records))\n",
    "val_size = int(0.1 * len(processor.records))\n",
    "test_size = int(0.1 * len(processor.records))"
   ]
  },
  {
   "cell_type": "code",
   "execution_count": 5,
   "id": "ac9f58ac-f8f1-400d-8bfa-e944c07c1576",
   "metadata": {},
   "outputs": [],
   "source": [
    "train_records = processor.records[:train_size]\n",
    "val_records = processor.records[train_size:train_size + val_size]\n",
    "test_records = processor.records[-test_size:]"
   ]
  },
  {
   "cell_type": "code",
   "execution_count": 6,
   "id": "73b1b995-ef7a-40f9-be08-feaf58a0900e",
   "metadata": {},
   "outputs": [],
   "source": [
    "train_dataset = Chexpert(params[\"dataset\"], processor, train_records, training=True)\n",
    "val_dataset = Chexpert(params[\"dataset\"], processor, val_records, training=False)\n",
    "test_dataset = Chexpert(params[\"dataset\"], processor, test_records, training=False)"
   ]
  },
  {
   "cell_type": "code",
   "execution_count": 7,
   "id": "ce3218a2-0243-4ea0-9970-69a8b053eb4b",
   "metadata": {},
   "outputs": [],
   "source": [
    "from torch.utils.data import DataLoader\n",
    "train_dataloader = DataLoader(train_dataset,\n",
    "                  batch_size=params[\"dataset\"][\"batch_size\"],\n",
    "                  num_workers=params[\"dataset\"][\"num_workers\"], \n",
    "                  shuffle=True)"
   ]
  },
  {
   "cell_type": "code",
   "execution_count": 8,
   "id": "51ccda46-4c54-47a4-9359-d13b448b0318",
   "metadata": {},
   "outputs": [],
   "source": [
    "val_dataloader = DataLoader(val_dataset,\n",
    "                  batch_size=params[\"dataset\"][\"batch_size\"],\n",
    "                  num_workers=params[\"dataset\"][\"num_workers\"], \n",
    "                  shuffle=True)\n",
    "test_dataloader = DataLoader(test_dataset,\n",
    "                  batch_size=params[\"dataset\"][\"batch_size\"],\n",
    "                  num_workers=params[\"dataset\"][\"num_workers\"], \n",
    "                  shuffle=True)"
   ]
  },
  {
   "cell_type": "code",
   "execution_count": 9,
   "id": "60fc7956-6812-4302-a8b5-0456c76dc191",
   "metadata": {},
   "outputs": [],
   "source": [
    "## TEST ###\n",
    "\n",
    "\n",
    "dataiter = iter(train_dataloader)\n",
    "first_batch = next(dataiter)\n",
    "\n",
    "# Extract images and labels\n",
    "images, labels = first_batch['target'], first_batch['report']"
   ]
  },
  {
   "cell_type": "code",
   "execution_count": 11,
   "id": "ea6096fe-d1a3-4d90-be9a-8a634eb5f4d0",
   "metadata": {},
   "outputs": [
    {
     "data": {
      "text/plain": [
       "tensor([[1., 0., 0., 0., 0., 0., 0., 1., 0., 0., 0., 1., 0., 0.],\n",
       "        [1., 0., 0., 0., 0., 0., 0., 1., 0., 0., 0., 1., 0., 0.],\n",
       "        [0., 0., 0., 0., 0., 0., 0., 0., 1., 0., 0., 0., 0., 0.],\n",
       "        [0., 0., 0., 0., 0., 0., 0., 0., 1., 0., 0., 0., 0., 0.],\n",
       "        [0., 0., 0., 0., 0., 0., 0., 0., 1., 0., 0., 0., 0., 0.],\n",
       "        [0., 0., 0., 0., 0., 0., 0., 0., 1., 0., 0., 0., 0., 0.],\n",
       "        [1., 0., 0., 0., 0., 0., 0., 0., 0., 0., 0., 1., 0., 0.],\n",
       "        [0., 1., 0., 1., 0., 0., 0., 0., 0., 0., 0., 0., 0., 0.]],\n",
       "       dtype=torch.float64)"
      ]
     },
     "execution_count": 11,
     "metadata": {},
     "output_type": "execute_result"
    }
   ],
   "source": [
    "labels"
   ]
  },
  {
   "cell_type": "code",
   "execution_count": null,
   "id": "32b967da-0c84-4871-ba1e-e8aba03415e0",
   "metadata": {},
   "outputs": [],
   "source": []
  }
 ],
 "metadata": {
  "kernelspec": {
   "display_name": "mlmi",
   "language": "python",
   "name": "mlmi"
  },
  "language_info": {
   "codemirror_mode": {
    "name": "ipython",
    "version": 3
   },
   "file_extension": ".py",
   "mimetype": "text/x-python",
   "name": "python",
   "nbconvert_exporter": "python",
   "pygments_lexer": "ipython3",
   "version": "3.8.0"
  }
 },
 "nbformat": 4,
 "nbformat_minor": 5
}
