{
 "cells": [
  {
   "cell_type": "code",
   "execution_count": 3,
   "id": "9650fd07",
   "metadata": {},
   "outputs": [],
   "source": [
    "#master_df_zeros = pd.read_csv(\"/home/mamur/TUM/MLMI/Unsupervised-Structured-Reporting-via-Cycle-Consistency/src/data/master_df_zeros.csv\")\n",
    "#master_df_ones = pd.read_csv(\"/home/mamur/TUM/MLMI/Unsupervised-Structured-Reporting-via-Cycle-Consistency/src/data/master_df_ones.csv\")\n",
    "#master_df_zeros = split_dataset(master_df_zeros, opt)\n",
    "#master_df_zeros[\"split\"].value_counts()"
   ]
  },
  {
   "cell_type": "code",
   "execution_count": 4,
   "id": "d7db0b65",
   "metadata": {},
   "outputs": [],
   "source": [
    "#master_df_ones[\"split\"] = master_df_zeros[\"split\"]\n",
    "#master_df_zeros.to_csv(\"/home/mamur/TUM/MLMI/Unsupervised-Structured-Reporting-via-Cycle-Consistency/src/data/master_df_zeros.csv\")\n",
    "#master_df_ones.to_csv(\"/home/mamur/TUM/MLMI/Unsupervised-Structured-Reporting-via-Cycle-Consistency/src/data/master_df_ones.csv\")"
   ]
  },
  {
   "cell_type": "code",
   "execution_count": null,
   "id": "aeff5f0e",
   "metadata": {},
   "outputs": [],
   "source": [
    "opt = opt[\"dataset\"]"
   ]
  },
  {
   "cell_type": "code",
   "execution_count": 9,
   "id": "53f4dfba",
   "metadata": {},
   "outputs": [
    {
     "name": "stdout",
     "output_type": "stream",
     "text": [
      "Created unpaired dataset.\n"
     ]
    }
   ],
   "source": [
    "processor = DataHandler(opt=opt, mode=\"test\")"
   ]
  },
  {
   "cell_type": "code",
   "execution_count": 10,
   "id": "2e88aa22",
   "metadata": {},
   "outputs": [
    {
     "data": {
      "text/plain": [
       "20813"
      ]
     },
     "execution_count": 10,
     "metadata": {},
     "output_type": "execute_result"
    }
   ],
   "source": [
    "len(processor.records)"
   ]
  },
  {
   "cell_type": "code",
   "execution_count": 7,
   "id": "af140c7a",
   "metadata": {},
   "outputs": [
    {
     "data": {
      "text/plain": [
       "split\n",
       "train    166505\n",
       "val       20813\n",
       "test      20813\n",
       "Name: count, dtype: int64"
      ]
     },
     "execution_count": 7,
     "metadata": {},
     "output_type": "execute_result"
    }
   ],
   "source": [
    "master_df_zeros = pd.read_csv(\"/home/mamur/TUM/MLMI/Unsupervised-Structured-Reporting-via-Cycle-Consistency/src/data/master_df_zeros.csv\")\n",
    "master_df_zeros[\"split\"].value_counts()"
   ]
  },
  {
   "cell_type": "code",
   "execution_count": null,
   "id": "3731dd43",
   "metadata": {},
   "outputs": [],
   "source": []
  }
 ],
 "metadata": {
  "kernelspec": {
   "display_name": "Python 3 (ipykernel)",
   "language": "python",
   "name": "python3"
  },
  "language_info": {
   "codemirror_mode": {
    "name": "ipython",
    "version": 3
   },
   "file_extension": ".py",
   "mimetype": "text/x-python",
   "name": "python",
   "nbconvert_exporter": "python",
   "pygments_lexer": "ipython3",
   "version": "3.9.18"
  }
 },
 "nbformat": 4,
 "nbformat_minor": 5
}
