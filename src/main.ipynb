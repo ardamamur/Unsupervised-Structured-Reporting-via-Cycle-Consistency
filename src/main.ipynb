{
 "cells": [
  {
   "cell_type": "code",
   "execution_count": 1,
   "id": "4027391b-a896-4a76-8f8c-96aa9cae654b",
   "metadata": {},
   "outputs": [
    {
     "name": "stderr",
     "output_type": "stream",
     "text": [
      "/home/guests/usr_mlmi/.conda/envs/ark_biovil/lib/python3.9/site-packages/tqdm/auto.py:21: TqdmWarning: IProgress not found. Please update jupyter and ipywidgets. See https://ipywidgets.readthedocs.io/en/stable/user_install.html\n",
      "  from .autonotebook import tqdm as notebook_tqdm\n"
     ]
    }
   ],
   "source": [
    "from data.Chexpert import Chexpert\n",
    "from modules.ChexpertModule import ChexpertDataModule\n",
    "#from modules.ChexpertModule import ChexpertDataModule\n",
    "from utils.environment_settings import env_settings\n",
    "from utils.utils import *\n",
    "from utils._prepare_data import DataHandler\n",
    "import matplotlib.pyplot as plt\n",
    "from torch.utils.data import random_split\n",
    "import torchvision\n",
    "import numpy as np"
   ]
  },
  {
   "cell_type": "code",
   "execution_count": 2,
   "id": "ce4ea619-b308-445b-8675-456ec1481e69",
   "metadata": {},
   "outputs": [],
   "source": [
    "params = read_config(env_settings.CONFIG)"
   ]
  },
  {
   "cell_type": "code",
   "execution_count": 3,
   "id": "1501dcf8-70a9-4bea-8c21-8bd462284f27",
   "metadata": {},
   "outputs": [
    {
     "name": "stdout",
     "output_type": "stream",
     "text": [
      "['Atelectasis', 'Cardiomegaly', 'Consolidation', 'Edema', 'Enlarged Cardiomediastinum', 'Fracture', 'Lung Lesion', 'Lung Opacity', 'No Finding', 'Pleural Effusion', 'Pleural Other', 'Pneumonia', 'Pneumothorax']\n",
      "Index(['Atelectasis', 'Cardiomegaly', 'Consolidation', 'Edema',\n",
      "       'Enlarged Cardiomediastinum', 'Fracture', 'Lung Lesion', 'Lung Opacity',\n",
      "       'No Finding', 'Pleural Effusion', 'Pleural Other', 'Pneumonia',\n",
      "       'Pneumothorax'],\n",
      "      dtype='object')\n",
      "Created paired dataset.\n"
     ]
    }
   ],
   "source": [
    "processor = DataHandler(opt=params[\"dataset\"])"
   ]
  },
  {
   "cell_type": "code",
   "execution_count": 4,
   "id": "7b4f40df-ce4a-4afd-8c61-38fa905c1a6a",
   "metadata": {},
   "outputs": [],
   "source": [
    "chexpert_data_module = ChexpertDataModule(opt=params['dataset'], processor=processor)"
   ]
  },
  {
   "cell_type": "code",
   "execution_count": 5,
   "id": "a8a5983b-5aa2-47dc-afc1-2a8fd57c9ece",
   "metadata": {},
   "outputs": [],
   "source": [
    "chexpert_data_module.setup()"
   ]
  },
  {
   "cell_type": "code",
   "execution_count": 6,
   "id": "fe8263d1-e779-4b59-98e1-65f0b9444961",
   "metadata": {},
   "outputs": [],
   "source": [
    "train_dataloader = chexpert_data_module.train_dataloader()"
   ]
  },
  {
   "cell_type": "code",
   "execution_count": 7,
   "id": "ea598329-3a37-4aa0-a99c-0c63e6da96cb",
   "metadata": {},
   "outputs": [],
   "source": [
    "val_dataloader = chexpert_data_module.val_dataloader()"
   ]
  },
  {
   "cell_type": "code",
   "execution_count": 8,
   "id": "cf43231a-04a1-4971-944a-8658a1cb4594",
   "metadata": {},
   "outputs": [],
   "source": [
    "test_dataloader = chexpert_data_module.test_dataloader()"
   ]
  },
  {
   "cell_type": "code",
   "execution_count": 9,
   "id": "c0abbd08-1e5f-4477-813f-a934f6908090",
   "metadata": {},
   "outputs": [],
   "source": [
    "accumulated_batches = []"
   ]
  },
  {
   "cell_type": "code",
   "execution_count": 13,
   "id": "60fc7956-6812-4302-a8b5-0456c76dc191",
   "metadata": {},
   "outputs": [],
   "source": [
    "## TEST ###\n",
    "#dataiter = iter(train_dataloader)\n",
    "first_batch = next(dataiter)\n",
    "# Extract images and labels\n",
    "images, labels = first_batch['target'], first_batch['report']"
   ]
  },
  {
   "cell_type": "code",
   "execution_count": 14,
   "id": "ea6096fe-d1a3-4d90-be9a-8a634eb5f4d0",
   "metadata": {},
   "outputs": [
    {
     "data": {
      "text/plain": [
       "tensor([[0., 0., 1., 0., 0., 0., 0., 0., 0., 1., 0., 0., 0.],\n",
       "        [0., 0., 0., 0., 0., 0., 0., 0., 1., 0., 0., 0., 0.],\n",
       "        [0., 0., 0., 0., 0., 0., 0., 0., 1., 0., 0., 0., 0.],\n",
       "        [0., 0., 0., 0., 0., 0., 0., 0., 1., 0., 0., 0., 0.],\n",
       "        [0., 0., 0., 0., 0., 0., 0., 0., 1., 0., 0., 0., 0.],\n",
       "        [1., 1., 0., 0., 0., 0., 0., 0., 0., 1., 0., 0., 1.],\n",
       "        [0., 0., 0., 0., 0., 0., 0., 0., 0., 0., 0., 0., 0.],\n",
       "        [1., 0., 0., 0., 1., 0., 0., 1., 0., 0., 1., 0., 0.],\n",
       "        [0., 0., 0., 0., 0., 0., 0., 0., 1., 0., 0., 0., 0.],\n",
       "        [0., 0., 0., 0., 0., 1., 0., 0., 0., 0., 0., 1., 0.],\n",
       "        [0., 0., 0., 0., 0., 0., 0., 0., 1., 0., 0., 0., 0.],\n",
       "        [1., 0., 0., 1., 0., 0., 0., 0., 0., 1., 0., 1., 0.],\n",
       "        [0., 0., 0., 0., 0., 0., 0., 0., 0., 0., 0., 0., 1.],\n",
       "        [1., 0., 0., 0., 0., 0., 0., 0., 0., 0., 0., 0., 0.],\n",
       "        [0., 0., 1., 0., 0., 0., 0., 0., 0., 0., 0., 1., 0.],\n",
       "        [1., 1., 0., 0., 0., 0., 0., 0., 0., 0., 0., 0., 1.]],\n",
       "       dtype=torch.float64)"
      ]
     },
     "execution_count": 14,
     "metadata": {},
     "output_type": "execute_result"
    }
   ],
   "source": [
    "labels"
   ]
  },
  {
   "cell_type": "code",
   "execution_count": 15,
   "id": "b19f0916-4ecb-4669-9bbe-4ca915dd475b",
   "metadata": {},
   "outputs": [],
   "source": [
    "accumulated_batches.append(labels)"
   ]
  },
  {
   "cell_type": "code",
   "execution_count": 16,
   "id": "8adecb00-ef2b-4303-bcc7-edd44f6023cf",
   "metadata": {},
   "outputs": [
    {
     "data": {
      "text/plain": [
       "[tensor([[0., 0., 0., 0., 0., 0., 0., 0., 1., 0., 0., 0., 0.],\n",
       "         [0., 0., 0., 0., 0., 0., 0., 1., 0., 0., 0., 0., 0.],\n",
       "         [0., 0., 0., 0., 0., 0., 0., 0., 1., 0., 0., 0., 0.],\n",
       "         [0., 0., 0., 0., 0., 0., 0., 1., 0., 1., 0., 1., 0.],\n",
       "         [0., 0., 0., 0., 0., 0., 0., 0., 1., 0., 0., 0., 0.],\n",
       "         [0., 0., 0., 0., 0., 0., 0., 1., 0., 0., 0., 0., 0.],\n",
       "         [0., 0., 0., 0., 0., 0., 0., 0., 1., 0., 0., 0., 0.],\n",
       "         [0., 1., 0., 0., 0., 0., 0., 0., 0., 1., 0., 0., 0.],\n",
       "         [0., 0., 0., 0., 0., 0., 0., 0., 1., 0., 0., 0., 0.],\n",
       "         [0., 0., 0., 1., 0., 0., 0., 0., 0., 0., 0., 0., 0.],\n",
       "         [1., 0., 0., 0., 0., 0., 0., 0., 0., 0., 0., 0., 0.],\n",
       "         [0., 1., 0., 1., 0., 0., 0., 0., 0., 0., 0., 0., 0.],\n",
       "         [0., 1., 0., 1., 0., 0., 0., 0., 0., 1., 0., 0., 0.],\n",
       "         [0., 0., 0., 1., 0., 0., 0., 0., 0., 1., 0., 0., 0.],\n",
       "         [0., 0., 0., 0., 0., 0., 0., 0., 1., 0., 0., 0., 0.],\n",
       "         [0., 0., 0., 0., 0., 0., 0., 1., 0., 1., 0., 0., 0.]],\n",
       "        dtype=torch.float64),\n",
       " tensor([[0., 0., 1., 0., 0., 0., 0., 0., 0., 1., 0., 0., 0.],\n",
       "         [0., 0., 0., 0., 0., 0., 0., 0., 1., 0., 0., 0., 0.],\n",
       "         [0., 0., 0., 0., 0., 0., 0., 0., 1., 0., 0., 0., 0.],\n",
       "         [0., 0., 0., 0., 0., 0., 0., 0., 1., 0., 0., 0., 0.],\n",
       "         [0., 0., 0., 0., 0., 0., 0., 0., 1., 0., 0., 0., 0.],\n",
       "         [1., 1., 0., 0., 0., 0., 0., 0., 0., 1., 0., 0., 1.],\n",
       "         [0., 0., 0., 0., 0., 0., 0., 0., 0., 0., 0., 0., 0.],\n",
       "         [1., 0., 0., 0., 1., 0., 0., 1., 0., 0., 1., 0., 0.],\n",
       "         [0., 0., 0., 0., 0., 0., 0., 0., 1., 0., 0., 0., 0.],\n",
       "         [0., 0., 0., 0., 0., 1., 0., 0., 0., 0., 0., 1., 0.],\n",
       "         [0., 0., 0., 0., 0., 0., 0., 0., 1., 0., 0., 0., 0.],\n",
       "         [1., 0., 0., 1., 0., 0., 0., 0., 0., 1., 0., 1., 0.],\n",
       "         [0., 0., 0., 0., 0., 0., 0., 0., 0., 0., 0., 0., 1.],\n",
       "         [1., 0., 0., 0., 0., 0., 0., 0., 0., 0., 0., 0., 0.],\n",
       "         [0., 0., 1., 0., 0., 0., 0., 0., 0., 0., 0., 1., 0.],\n",
       "         [1., 1., 0., 0., 0., 0., 0., 0., 0., 0., 0., 0., 1.]],\n",
       "        dtype=torch.float64)]"
      ]
     },
     "execution_count": 16,
     "metadata": {},
     "output_type": "execute_result"
    }
   ],
   "source": [
    "accumulated_batches"
   ]
  },
  {
   "cell_type": "code",
   "execution_count": 17,
   "id": "38d52996-51ae-47ba-8136-a5ad79f4d6db",
   "metadata": {},
   "outputs": [
    {
     "data": {
      "text/plain": [
       "tensor([[0., 0., 0., 0., 0., 0., 0., 0., 1., 0., 0., 0., 0.],\n",
       "        [0., 0., 0., 0., 0., 0., 0., 1., 0., 0., 0., 0., 0.],\n",
       "        [0., 0., 0., 0., 0., 0., 0., 0., 1., 0., 0., 0., 0.],\n",
       "        [0., 0., 0., 0., 0., 0., 0., 1., 0., 1., 0., 1., 0.],\n",
       "        [0., 0., 0., 0., 0., 0., 0., 0., 1., 0., 0., 0., 0.],\n",
       "        [0., 0., 0., 0., 0., 0., 0., 1., 0., 0., 0., 0., 0.],\n",
       "        [0., 0., 0., 0., 0., 0., 0., 0., 1., 0., 0., 0., 0.],\n",
       "        [0., 1., 0., 0., 0., 0., 0., 0., 0., 1., 0., 0., 0.],\n",
       "        [0., 0., 0., 0., 0., 0., 0., 0., 1., 0., 0., 0., 0.],\n",
       "        [0., 0., 0., 1., 0., 0., 0., 0., 0., 0., 0., 0., 0.],\n",
       "        [1., 0., 0., 0., 0., 0., 0., 0., 0., 0., 0., 0., 0.],\n",
       "        [0., 1., 0., 1., 0., 0., 0., 0., 0., 0., 0., 0., 0.],\n",
       "        [0., 1., 0., 1., 0., 0., 0., 0., 0., 1., 0., 0., 0.],\n",
       "        [0., 0., 0., 1., 0., 0., 0., 0., 0., 1., 0., 0., 0.],\n",
       "        [0., 0., 0., 0., 0., 0., 0., 0., 1., 0., 0., 0., 0.],\n",
       "        [0., 0., 0., 0., 0., 0., 0., 1., 0., 1., 0., 0., 0.],\n",
       "        [0., 0., 1., 0., 0., 0., 0., 0., 0., 1., 0., 0., 0.],\n",
       "        [0., 0., 0., 0., 0., 0., 0., 0., 1., 0., 0., 0., 0.],\n",
       "        [0., 0., 0., 0., 0., 0., 0., 0., 1., 0., 0., 0., 0.],\n",
       "        [0., 0., 0., 0., 0., 0., 0., 0., 1., 0., 0., 0., 0.],\n",
       "        [0., 0., 0., 0., 0., 0., 0., 0., 1., 0., 0., 0., 0.],\n",
       "        [1., 1., 0., 0., 0., 0., 0., 0., 0., 1., 0., 0., 1.],\n",
       "        [0., 0., 0., 0., 0., 0., 0., 0., 0., 0., 0., 0., 0.],\n",
       "        [1., 0., 0., 0., 1., 0., 0., 1., 0., 0., 1., 0., 0.],\n",
       "        [0., 0., 0., 0., 0., 0., 0., 0., 1., 0., 0., 0., 0.],\n",
       "        [0., 0., 0., 0., 0., 1., 0., 0., 0., 0., 0., 1., 0.],\n",
       "        [0., 0., 0., 0., 0., 0., 0., 0., 1., 0., 0., 0., 0.],\n",
       "        [1., 0., 0., 1., 0., 0., 0., 0., 0., 1., 0., 1., 0.],\n",
       "        [0., 0., 0., 0., 0., 0., 0., 0., 0., 0., 0., 0., 1.],\n",
       "        [1., 0., 0., 0., 0., 0., 0., 0., 0., 0., 0., 0., 0.],\n",
       "        [0., 0., 1., 0., 0., 0., 0., 0., 0., 0., 0., 1., 0.],\n",
       "        [1., 1., 0., 0., 0., 0., 0., 0., 0., 0., 0., 0., 1.]],\n",
       "       dtype=torch.float64)"
      ]
     },
     "execution_count": 17,
     "metadata": {},
     "output_type": "execute_result"
    }
   ],
   "source": [
    "import torch\n",
    "torch.cat(accumulated_batches, dim=0)"
   ]
  },
  {
   "cell_type": "code",
   "execution_count": 18,
   "id": "581be0e9-d292-4af2-90d8-60432c72f5df",
   "metadata": {},
   "outputs": [],
   "source": [
    "outputs = torch.sigmoid(torch.cat(accumulated_batches, dim=0))"
   ]
  },
  {
   "cell_type": "code",
   "execution_count": 19,
   "id": "8c6d4674-6ce2-49a7-9585-39b274f1f20e",
   "metadata": {},
   "outputs": [
    {
     "data": {
      "text/plain": [
       "tensor([[0.5000, 0.5000, 0.5000, 0.5000, 0.5000, 0.5000, 0.5000, 0.5000, 0.7311,\n",
       "         0.5000, 0.5000, 0.5000, 0.5000],\n",
       "        [0.5000, 0.5000, 0.5000, 0.5000, 0.5000, 0.5000, 0.5000, 0.7311, 0.5000,\n",
       "         0.5000, 0.5000, 0.5000, 0.5000],\n",
       "        [0.5000, 0.5000, 0.5000, 0.5000, 0.5000, 0.5000, 0.5000, 0.5000, 0.7311,\n",
       "         0.5000, 0.5000, 0.5000, 0.5000],\n",
       "        [0.5000, 0.5000, 0.5000, 0.5000, 0.5000, 0.5000, 0.5000, 0.7311, 0.5000,\n",
       "         0.7311, 0.5000, 0.7311, 0.5000],\n",
       "        [0.5000, 0.5000, 0.5000, 0.5000, 0.5000, 0.5000, 0.5000, 0.5000, 0.7311,\n",
       "         0.5000, 0.5000, 0.5000, 0.5000],\n",
       "        [0.5000, 0.5000, 0.5000, 0.5000, 0.5000, 0.5000, 0.5000, 0.7311, 0.5000,\n",
       "         0.5000, 0.5000, 0.5000, 0.5000],\n",
       "        [0.5000, 0.5000, 0.5000, 0.5000, 0.5000, 0.5000, 0.5000, 0.5000, 0.7311,\n",
       "         0.5000, 0.5000, 0.5000, 0.5000],\n",
       "        [0.5000, 0.7311, 0.5000, 0.5000, 0.5000, 0.5000, 0.5000, 0.5000, 0.5000,\n",
       "         0.7311, 0.5000, 0.5000, 0.5000],\n",
       "        [0.5000, 0.5000, 0.5000, 0.5000, 0.5000, 0.5000, 0.5000, 0.5000, 0.7311,\n",
       "         0.5000, 0.5000, 0.5000, 0.5000],\n",
       "        [0.5000, 0.5000, 0.5000, 0.7311, 0.5000, 0.5000, 0.5000, 0.5000, 0.5000,\n",
       "         0.5000, 0.5000, 0.5000, 0.5000],\n",
       "        [0.7311, 0.5000, 0.5000, 0.5000, 0.5000, 0.5000, 0.5000, 0.5000, 0.5000,\n",
       "         0.5000, 0.5000, 0.5000, 0.5000],\n",
       "        [0.5000, 0.7311, 0.5000, 0.7311, 0.5000, 0.5000, 0.5000, 0.5000, 0.5000,\n",
       "         0.5000, 0.5000, 0.5000, 0.5000],\n",
       "        [0.5000, 0.7311, 0.5000, 0.7311, 0.5000, 0.5000, 0.5000, 0.5000, 0.5000,\n",
       "         0.7311, 0.5000, 0.5000, 0.5000],\n",
       "        [0.5000, 0.5000, 0.5000, 0.7311, 0.5000, 0.5000, 0.5000, 0.5000, 0.5000,\n",
       "         0.7311, 0.5000, 0.5000, 0.5000],\n",
       "        [0.5000, 0.5000, 0.5000, 0.5000, 0.5000, 0.5000, 0.5000, 0.5000, 0.7311,\n",
       "         0.5000, 0.5000, 0.5000, 0.5000],\n",
       "        [0.5000, 0.5000, 0.5000, 0.5000, 0.5000, 0.5000, 0.5000, 0.7311, 0.5000,\n",
       "         0.7311, 0.5000, 0.5000, 0.5000],\n",
       "        [0.5000, 0.5000, 0.7311, 0.5000, 0.5000, 0.5000, 0.5000, 0.5000, 0.5000,\n",
       "         0.7311, 0.5000, 0.5000, 0.5000],\n",
       "        [0.5000, 0.5000, 0.5000, 0.5000, 0.5000, 0.5000, 0.5000, 0.5000, 0.7311,\n",
       "         0.5000, 0.5000, 0.5000, 0.5000],\n",
       "        [0.5000, 0.5000, 0.5000, 0.5000, 0.5000, 0.5000, 0.5000, 0.5000, 0.7311,\n",
       "         0.5000, 0.5000, 0.5000, 0.5000],\n",
       "        [0.5000, 0.5000, 0.5000, 0.5000, 0.5000, 0.5000, 0.5000, 0.5000, 0.7311,\n",
       "         0.5000, 0.5000, 0.5000, 0.5000],\n",
       "        [0.5000, 0.5000, 0.5000, 0.5000, 0.5000, 0.5000, 0.5000, 0.5000, 0.7311,\n",
       "         0.5000, 0.5000, 0.5000, 0.5000],\n",
       "        [0.7311, 0.7311, 0.5000, 0.5000, 0.5000, 0.5000, 0.5000, 0.5000, 0.5000,\n",
       "         0.7311, 0.5000, 0.5000, 0.7311],\n",
       "        [0.5000, 0.5000, 0.5000, 0.5000, 0.5000, 0.5000, 0.5000, 0.5000, 0.5000,\n",
       "         0.5000, 0.5000, 0.5000, 0.5000],\n",
       "        [0.7311, 0.5000, 0.5000, 0.5000, 0.7311, 0.5000, 0.5000, 0.7311, 0.5000,\n",
       "         0.5000, 0.7311, 0.5000, 0.5000],\n",
       "        [0.5000, 0.5000, 0.5000, 0.5000, 0.5000, 0.5000, 0.5000, 0.5000, 0.7311,\n",
       "         0.5000, 0.5000, 0.5000, 0.5000],\n",
       "        [0.5000, 0.5000, 0.5000, 0.5000, 0.5000, 0.7311, 0.5000, 0.5000, 0.5000,\n",
       "         0.5000, 0.5000, 0.7311, 0.5000],\n",
       "        [0.5000, 0.5000, 0.5000, 0.5000, 0.5000, 0.5000, 0.5000, 0.5000, 0.7311,\n",
       "         0.5000, 0.5000, 0.5000, 0.5000],\n",
       "        [0.7311, 0.5000, 0.5000, 0.7311, 0.5000, 0.5000, 0.5000, 0.5000, 0.5000,\n",
       "         0.7311, 0.5000, 0.7311, 0.5000],\n",
       "        [0.5000, 0.5000, 0.5000, 0.5000, 0.5000, 0.5000, 0.5000, 0.5000, 0.5000,\n",
       "         0.5000, 0.5000, 0.5000, 0.7311],\n",
       "        [0.7311, 0.5000, 0.5000, 0.5000, 0.5000, 0.5000, 0.5000, 0.5000, 0.5000,\n",
       "         0.5000, 0.5000, 0.5000, 0.5000],\n",
       "        [0.5000, 0.5000, 0.7311, 0.5000, 0.5000, 0.5000, 0.5000, 0.5000, 0.5000,\n",
       "         0.5000, 0.5000, 0.7311, 0.5000],\n",
       "        [0.7311, 0.7311, 0.5000, 0.5000, 0.5000, 0.5000, 0.5000, 0.5000, 0.5000,\n",
       "         0.5000, 0.5000, 0.5000, 0.7311]], dtype=torch.float64)"
      ]
     },
     "execution_count": 19,
     "metadata": {},
     "output_type": "execute_result"
    }
   ],
   "source": [
    "outputs"
   ]
  },
  {
   "cell_type": "code",
   "execution_count": 20,
   "id": "3fd38f16-58a5-404b-9998-160027298ef9",
   "metadata": {},
   "outputs": [],
   "source": [
    "from utils.post_processing import post_process"
   ]
  },
  {
   "cell_type": "code",
   "execution_count": 21,
   "id": "f5a27f54-f3b8-4881-96dc-ee39d7b5c0ce",
   "metadata": {},
   "outputs": [],
   "source": [
    "a,b = post_process(outputs, 'zeros', params['dataset']['chexpert_labels'])"
   ]
  },
  {
   "cell_type": "code",
   "execution_count": 22,
   "id": "5627645b-d21b-4038-86ff-1e7a9541eaac",
   "metadata": {},
   "outputs": [
    {
     "data": {
      "text/plain": [
       "{'combinations': {'No Finding': 0.7222222222222222,\n",
       "  'Lung Opacity': 0.1111111111111111,\n",
       "  'Lung Opacity, Pleural Effusion, Pneumonia': 0.05555555555555555,\n",
       "  'Cardiomegaly, Pleural Effusion': 0.05555555555555555,\n",
       "  'Edema': 0.05555555555555555,\n",
       "  'Atelectasis': 0.1111111111111111,\n",
       "  'Cardiomegaly, Edema': 0.05555555555555555,\n",
       "  'Cardiomegaly, Edema, Pleural Effusion': 0.05555555555555555,\n",
       "  'Edema, Pleural Effusion': 0.05555555555555555,\n",
       "  'Lung Opacity, Pleural Effusion': 0.05555555555555555,\n",
       "  'Consolidation, Pleural Effusion': 0.05555555555555555,\n",
       "  'Atelectasis, Cardiomegaly, Pleural Effusion, Pneumothorax': 0.05555555555555555,\n",
       "  'Atelectasis, Enlarged Cardiomediastinum, Lung Opacity, Pleural Other': 0.05555555555555555,\n",
       "  'Fracture, Pneumonia': 0.05555555555555555,\n",
       "  'Atelectasis, Edema, Pleural Effusion, Pneumonia': 0.05555555555555555,\n",
       "  'Pneumothorax': 0.05555555555555555,\n",
       "  'Consolidation, Pneumonia': 0.05555555555555555,\n",
       "  'Atelectasis, Cardiomegaly, Pneumothorax': 0.05555555555555555},\n",
       " 'distributions': tensor([0.7222, 0.1111, 0.0556, 0.0556, 0.0556, 0.1111, 0.0556, 0.0556, 0.0556,\n",
       "         0.0556, 0.0556, 0.0556, 0.0556, 0.0556, 0.0556, 0.0556, 0.0556, 0.0556])}"
      ]
     },
     "execution_count": 22,
     "metadata": {},
     "output_type": "execute_result"
    }
   ],
   "source": [
    "a"
   ]
  },
  {
   "cell_type": "code",
   "execution_count": 25,
   "id": "0ec8ed8e-4c58-45b5-99fd-3d98c4418e5a",
   "metadata": {},
   "outputs": [
    {
     "data": {
      "text/plain": [
       "tensor([3.2962e-01, 2.4779e-02, 4.0321e-03, 8.5073e-03, 2.0751e-02, 3.0204e-02,\n",
       "        1.5484e-02, 1.2712e-02, 1.2692e-02, 8.2956e-03, 2.6881e-03, 8.7633e-04,\n",
       "        3.9386e-05, 1.1816e-04, 6.8433e-04, 1.4898e-02, 3.6530e-03, 9.6495e-04])"
      ]
     },
     "execution_count": 25,
     "metadata": {},
     "output_type": "execute_result"
    }
   ],
   "source": [
    "b['distributions'] + 1e-10"
   ]
  },
  {
   "cell_type": "code",
   "execution_count": null,
   "id": "32b967da-0c84-4871-ba1e-e8aba03415e0",
   "metadata": {},
   "outputs": [],
   "source": [
    "# Function to show a batch of images\n",
    "def imshow(img):\n",
    "    img = img / 2 + 0.5  # unnormalize if you used normalization like mean=[0.485, 0.456, 0.406] and std=[0.229, 0.224, 0.225]\n",
    "    npimg = img.numpy()\n",
    "    plt.imshow(np.transpose(npimg, (1, 2, 0)))\n",
    "    plt.show()\n",
    "\n",
    "# Set a larger figure size\n",
    "plt.figure(figsize=(50, 50))  # You can adjust these dimensions as needed\n",
    "\n",
    "# Adjust the number of images per row in the grid\n",
    "# 'images' is a batch of your images\n",
    "grid_img = torchvision.utils.make_grid(images, nrow=5)  # Adjust 'nrow' based on your preference\n",
    "\n",
    "imshow(grid_img)\n",
    "\n",
    "# Show the plot\n",
    "plt.show()\n"
   ]
  }
 ],
 "metadata": {
  "kernelspec": {
   "display_name": "ark_biovil",
   "language": "python",
   "name": "ark_biovil"
  },
  "language_info": {
   "codemirror_mode": {
    "name": "ipython",
    "version": 3
   },
   "file_extension": ".py",
   "mimetype": "text/x-python",
   "name": "python",
   "nbconvert_exporter": "python",
   "pygments_lexer": "ipython3",
   "version": "3.9.18"
  }
 },
 "nbformat": 4,
 "nbformat_minor": 5
}
