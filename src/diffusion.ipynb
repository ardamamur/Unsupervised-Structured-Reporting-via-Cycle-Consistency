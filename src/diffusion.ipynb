{
 "cells": [
  {
   "cell_type": "code",
   "execution_count": null,
   "metadata": {},
   "outputs": [],
   "source": [
    "from modules.diffusion import ContextUnet, DDPM\n",
    "import numpy as np\n",
    "import pytorch_lightning as pl\n",
    "from torchvision.datasets import MNIST, ImageFolder\n",
    "from torch.utils.data import DataLoader\n",
    "from torchvision import models, transforms\n",
    "from pytorch_lightning.loggers import TensorBoardLogger\n",
    "\n",
    "%load_ext autoreload\n",
    "%autoreload 2\n",
    "# %load_ext tensorboard\n",
    "# %tensorboard --logdir lightning_logs"
   ]
  },
  {
   "cell_type": "code",
   "execution_count": null,
   "metadata": {},
   "outputs": [],
   "source": [
    "n_epoch = 100\n",
    "n_T = 400 # 500\n",
    "device = \"cuda:0\"\n",
    "n_classes = 3\n",
    "n_feat = 128 # 128 ok, 256 better (but slower)\n",
    "image_size = 64\n",
    "lrate = 1e-4\n",
    "batch_size = 32\n",
    "save_model = False\n",
    "save_dir = '../data/diffusion_outputs10/'\n",
    "ws_test = [0.0, 0.5, 2.0] # strength of generative guidance\n",
    "pl.seed_everything(42)\n",
    "tf = transforms.Compose([transforms.ToTensor(), transforms.Resize((image_size, image_size)), transforms.Grayscale(), transforms.Normalize((0.5,), (0.5,))])\n",
    "dataset_train = ImageFolder('../data/xray_train', transform=tf)\n",
    "dataset_val = ImageFolder('../data/xray_val', transform=tf)\n",
    "\n",
    "dataloader_train = DataLoader(dataset_train, batch_size=batch_size, shuffle=True, num_workers=5)\n",
    "dataloader_val = DataLoader(dataset_val, batch_size=300, shuffle=False, num_workers=5)\n",
    "\n",
    "logger = TensorBoardLogger('tb_logs', name='my_model')\n",
    "\n",
    "model = DDPM(nn_model=ContextUnet(in_channels=1, n_feat=n_feat, n_classes=n_classes), betas=(1e-4, 0.02), n_T=n_T, device=device, drop_prob=0.1, epochs=n_epoch, image_size=image_size)\n",
    "trainer = pl.Trainer(gpus=1, max_epochs=n_epoch, num_sanity_val_steps=0, logger=logger)\n",
    "trainer.fit(model, dataloader_train, dataloader_val)\n",
    "\n",
    "# #plot data\n",
    "# import matplotlib.pyplot as plt\n",
    "# import torchvision\n",
    "\n",
    "# plt.imshow(dataset_train[0][0][0], cmap='gray')\n",
    "# torchvision.utils.save_image(dataset_train[0][0], 'test.png', )"
   ]
  },
  {
   "cell_type": "code",
   "execution_count": null,
   "metadata": {},
   "outputs": [],
   "source": [
    "import torchvision\n",
    "torchvision.utils.save_image(dataset_train[0][0], 'test.png', normalize=True)"
   ]
  },
  {
   "cell_type": "code",
   "execution_count": null,
   "metadata": {},
   "outputs": [],
   "source": []
  }
 ],
 "metadata": {
  "kernelspec": {
   "display_name": "ldm",
   "language": "python",
   "name": "python3"
  },
  "language_info": {
   "codemirror_mode": {
    "name": "ipython",
    "version": 3
   },
   "file_extension": ".py",
   "mimetype": "text/x-python",
   "name": "python",
   "nbconvert_exporter": "python",
   "pygments_lexer": "ipython3",
   "version": "3.9.18"
  }
 },
 "nbformat": 4,
 "nbformat_minor": 2
}
